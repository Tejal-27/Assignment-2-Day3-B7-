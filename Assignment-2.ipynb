{
 "cells": [
  {
   "cell_type": "markdown",
   "metadata": {},
   "source": [
    "# question 1\n",
    "\n",
    "# Using for loop please print all the prime numbers between 1-200  using FOR LOOP AND RANGE function\n"
   ]
  },
  {
   "cell_type": "code",
   "execution_count": 22,
   "metadata": {},
   "outputs": [
    {
     "name": "stdout",
     "output_type": "stream",
     "text": [
      "Enter upper limit: 200\n",
      "1\n",
      "2\n",
      "3\n",
      "5\n",
      "7\n",
      "11\n",
      "13\n",
      "17\n",
      "19\n",
      "23\n",
      "29\n",
      "31\n",
      "37\n",
      "41\n",
      "43\n",
      "47\n",
      "53\n",
      "59\n",
      "61\n",
      "67\n",
      "71\n",
      "73\n",
      "79\n",
      "83\n",
      "89\n",
      "97\n",
      "101\n",
      "103\n",
      "107\n",
      "109\n",
      "113\n",
      "127\n",
      "131\n",
      "137\n",
      "139\n",
      "149\n",
      "151\n",
      "157\n",
      "163\n",
      "167\n",
      "173\n",
      "179\n",
      "181\n",
      "191\n",
      "193\n",
      "197\n",
      "199\n"
     ]
    }
   ],
   "source": [
    "num=int(input(\"Enter upper limit: \"))\n",
    "for a in range(1,num+1):\n",
    "    k=0\n",
    "    for i in range(2,a//2+1):\n",
    "        if(a%i==0):\n",
    "            k=k+1\n",
    "    if(k<=0):\n",
    "        print(a)"
   ]
  },
  {
   "cell_type": "markdown",
   "metadata": {},
   "source": [
    "# Question 2\n",
    "\n",
    "# You all are Pilots, you want to land a plane safely, so WAP to take current altitude as input and check weather the altitude is less than 1000 ft to land the plane, or more than 1000 ft, and if it's less than 5000 ft ask pilot to turn down to 1000 ft and if it  is more than 5000 ft then ask pilot to turn around and attempt later."
   ]
  },
  {
   "cell_type": "code",
   "execution_count": 5,
   "metadata": {},
   "outputs": [
    {
     "name": "stdout",
     "output_type": "stream",
     "text": [
      "Enter the input: 1000\n",
      "Save to Land\n"
     ]
    }
   ],
   "source": [
    "\n",
    "WAP = int(input(\"Enter the input: \"))\n",
    "\n",
    "if WAP <=1000:\n",
    "    WAP = 0\n",
    "    print(\"Save to Land\")\n",
    "elif (1000 < WAP < 5000):\n",
    "    print(\"Bring down to 1000 ft\")\n",
    "elif WAP > 5000:\n",
    "    print(\"Turn Around\")\n",
    "else:\n",
    "    print(\"Take current altitude as 1000 ft\")"
   ]
  },
  {
   "cell_type": "code",
   "execution_count": 6,
   "metadata": {},
   "outputs": [
    {
     "name": "stdout",
     "output_type": "stream",
     "text": [
      "Enter the input: 4500\n",
      "Bring down to 1000 ft\n"
     ]
    }
   ],
   "source": [
    "WAP = int(input(\"Enter the input: \"))\n",
    "\n",
    "if WAP <=1000:\n",
    "    WAP = 0\n",
    "    print(\"Save to Land\")\n",
    "elif (1000 < WAP < 5000):\n",
    "    print(\"Bring down to 1000 ft\")\n",
    "elif WAP > 5000:\n",
    "    print(\"Turn Around\")\n",
    "else:\n",
    "    print(\"Take current altitude as 1000 ft\")"
   ]
  },
  {
   "cell_type": "code",
   "execution_count": 7,
   "metadata": {},
   "outputs": [
    {
     "name": "stdout",
     "output_type": "stream",
     "text": [
      "Enter the input: 6500\n",
      "Turn Around\n"
     ]
    }
   ],
   "source": [
    "WAP = int(input(\"Enter the input: \"))\n",
    "\n",
    "if WAP <=1000:\n",
    "    WAP = 0\n",
    "    print(\"Save to Land\")\n",
    "elif (1000 < WAP < 5000):\n",
    "    print(\"Bring down to 1000 ft\")\n",
    "elif WAP > 5000:\n",
    "    print(\"Turn Around\")\n",
    "else:\n",
    "    print(\"Take current altitude as 1000 ft\")"
   ]
  },
  {
   "cell_type": "code",
   "execution_count": null,
   "metadata": {},
   "outputs": [],
   "source": []
  }
 ],
 "metadata": {
  "kernelspec": {
   "display_name": "Python 3",
   "language": "python",
   "name": "python3"
  },
  "language_info": {
   "codemirror_mode": {
    "name": "ipython",
    "version": 3
   },
   "file_extension": ".py",
   "mimetype": "text/x-python",
   "name": "python",
   "nbconvert_exporter": "python",
   "pygments_lexer": "ipython3",
   "version": "3.8.3"
  }
 },
 "nbformat": 4,
 "nbformat_minor": 4
}
